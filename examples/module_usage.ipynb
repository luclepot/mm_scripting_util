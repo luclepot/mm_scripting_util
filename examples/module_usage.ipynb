{
 "cells": [
  {
   "cell_type": "markdown",
   "metadata": {},
   "source": [
    "# `mm_scripting_util` module usage demo\n"
   ]
  },
  {
   "cell_type": "markdown",
   "metadata": {},
   "source": [
    "Start by installing the module - this can be done in several ways, depending on your use case.\n",
    "\n",
    "#### To install into an existing python 3 installation:\n",
    "- clone this repo to desired location\n",
    "- run one of the following in top repo dir, according to your needs\n",
    "    - `python setup.py < develop | build | install >` \n",
    "    - `pip install .`\n",
    "\n",
    "#### To auto-install python and all dependencies\n",
    "- clone repo\n",
    "- run the setup bash file using `source setup.sh`. This gives you various options, shown in the cell below:"
   ]
  },
  {
   "cell_type": "code",
   "execution_count": 14,
   "metadata": {
    "scrolled": true
   },
   "outputs": [
    {
     "name": "stdout",
     "output_type": "stream",
     "text": [
      "\n",
      "generating bash setup script...\n",
      "usage: setup_env_util.py [-h] [-mg] [-c] [-e] [-d INSTALL_DIRECTORY] [-b] [-a]\n",
      "                         [-all] [-v]\n",
      "\n",
      "optional arguments:\n",
      "  -h, --help            show this help message and exit\n",
      "  -mg, --madgraph       download and install the latest version of madgraph to\n",
      "                        the home directory (or install-dir if specified)\n",
      "  -c, --conda           installs miniconda to the home directory (or install-\n",
      "                        dir if specified)\n",
      "  -e, --env             installs and activates a conda environment supporting\n",
      "                        this module\n",
      "  -d INSTALL_DIRECTORY, --dir INSTALL_DIRECTORY\n",
      "                        directory to put all installed objects\n",
      "  -b, --build           attempts to build this module\n",
      "  -a, --alias           associates an alias in this current shell such that\n",
      "                        running `mmsc` or `mm_scripting_util` is equivalent to\n",
      "                        python mm_scripting_util/run.py\n",
      "  -all, --all           runs all of the above commands with the exception\n",
      "                        installing madgraph.\n",
      "  -v, --verbose         run setup with logs\n",
      "\n"
     ]
    }
   ],
   "source": [
    "!./setup.sh -h"
   ]
  },
  {
   "cell_type": "markdown",
   "metadata": {},
   "source": [
    "The easiest choice if you're running a fresh install (i.e. on the MLATLAS servers where the pre-installed python is the wrong version) is to simply run `source setup.sh [ -all | --all ]` flag.\n",
    "\n",
    "The `-a` option is also useful; it allows for quick command line usage of the program (described in another tutorial)."
   ]
  },
  {
   "cell_type": "code",
   "execution_count": null,
   "metadata": {},
   "outputs": [],
   "source": []
  },
  {
   "cell_type": "code",
   "execution_count": null,
   "metadata": {},
   "outputs": [],
   "source": []
  }
 ],
 "metadata": {
  "kernelspec": {
   "display_name": "Python 3",
   "language": "python",
   "name": "python3"
  },
  "language_info": {
   "codemirror_mode": {
    "name": "ipython",
    "version": 3
   },
   "file_extension": ".py",
   "mimetype": "text/x-python",
   "name": "python",
   "nbconvert_exporter": "python",
   "pygments_lexer": "ipython3",
   "version": "3.6.8"
  }
 },
 "nbformat": 4,
 "nbformat_minor": 2
}
